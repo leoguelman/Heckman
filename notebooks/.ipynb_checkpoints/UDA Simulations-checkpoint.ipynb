{
 "cells": [
  {
   "cell_type": "markdown",
   "metadata": {},
   "source": [
    "## Model Mis-specification\n",
    "\n",
    "Assume we misspecified the model for missing data.\n",
    "\n",
    "Author: Leo Guelman"
   ]
  },
  {
   "cell_type": "markdown",
   "metadata": {},
   "source": [
    "## Imports"
   ]
  },
  {
   "cell_type": "code",
   "execution_count": null,
   "metadata": {},
   "outputs": [],
   "source": [
    "import os\n",
    "os.chdir('/Users/lguelman/Library/Mobile Documents/com~apple~CloudDocs/LG_Files/Development/UDA/python')\n",
    "\n",
    "import numpy as np\n",
    "import pandas as pd\n",
    "\n",
    "import matplotlib.pyplot as plt\n",
    "import arviz as az\n",
    "parameters = {'figure.figsize': (8, 4),\n",
    "              'font.size': 6, \n",
    "              'axes.labelsize': 10}\n",
    "plt.rcParams.update(parameters)\n",
    "az.style.use(\"arviz-darkgrid\")\n",
    "from IPython.display import Image\n",
    "\n",
    "import pystan\n",
    "import multiprocessing\n",
    "import seaborn as sns\n",
    "import pickle\n",
    "import random\n",
    "\n",
    "from mde import MissingDataExperiments\n",
    "from utils import plot_posterior, plot_mu_posterior"
   ]
  },
  {
   "cell_type": "markdown",
   "metadata": {},
   "source": [
    "### Simulation Params"
   ]
  },
  {
   "cell_type": "code",
   "execution_count": null,
   "metadata": {},
   "outputs": [],
   "source": [
    "B = 30 # Number of repetitions\n",
    "N_samples = [50, 200, 1000]\n",
    "\n",
    "random.seed(1)   \n",
    "r_ints = []\n",
    "for i in range(0,B):\n",
    "    r_ints.append(random.randint(1,1000))\n",
    "print(r_ints)"
   ]
  },
  {
   "cell_type": "markdown",
   "metadata": {},
   "source": [
    "### Case 1: $\\rho_{x,z} = 0$, $\\rho_{y,d} =0$"
   ]
  },
  {
   "cell_type": "code",
   "execution_count": null,
   "metadata": {},
   "outputs": [],
   "source": [
    "case1_Heckman = dict.fromkeys(map(str, N_samples))\n",
    "case1_OLS = dict.fromkeys(map(str, N_samples))\n",
    "\n",
    "for i in range(len(N_samples)):\n",
    "    for b in range(B):\n",
    "        case1 = MissingDataExperiments(N = N_samples[i],\n",
    "                                       alpha=0.5, beta=-0.5, delta=0.5, gamma=-2.5, sigma_y=1.0,\n",
    "                                       rho_xz = 0.0, rho_yd = 0.0, m_error = False, nonlinear_z=True,\n",
    "                                       seed = r_ints[b])\n",
    "        case1.generate_data()\n",
    "        case1.stan_fit(type='Heckman')  \n",
    "        if case1_Heckman[str(N_samples[i])] is None:\n",
    "            case1_Heckman[str(N_samples[i])] = [case1]\n",
    "        else:\n",
    "            case1_Heckman[str(N_samples[i])].append(case1)\n",
    "        \n",
    "    \n",
    "for i in range(len(N_samples)):\n",
    "    for b in range(B):\n",
    "        case1 = MissingDataExperiments(N = N_samples[i],\n",
    "                                       alpha=0.5, beta=-0.5, delta=0.5, gamma=-2.5, sigma_y=1.0,\n",
    "                                       rho_xz = 0.0, rho_yd = 0.0, m_error = False, nonlinear_z=True,\n",
    "                                       seed = r_ints[b])\n",
    "        case1.generate_data()\n",
    "        case1.stan_fit(type='OLS')  \n",
    "        if case1_OLS[str(N_samples[i])] is None:\n",
    "            case1_OLS[str(N_samples[i])] = [case1]\n",
    "        else:\n",
    "            case1_OLS[str(N_samples[i])].append(case1)"
   ]
  },
  {
   "cell_type": "code",
   "execution_count": null,
   "metadata": {},
   "outputs": [],
   "source": [
    "plot_posterior(case1_Heckman, figsize=(30,10))"
   ]
  },
  {
   "cell_type": "code",
   "execution_count": null,
   "metadata": {},
   "outputs": [],
   "source": [
    "plot_posterior(case1_OLS, figsize=(30,10))"
   ]
  },
  {
   "cell_type": "code",
   "execution_count": null,
   "metadata": {},
   "outputs": [],
   "source": [
    "plot_mu_posterior(case1_Heckman, case1_OLS)"
   ]
  },
  {
   "cell_type": "markdown",
   "metadata": {},
   "source": [
    "### Case 2: $\\rho_{x,z} = 0.8$, $\\rho_{y,d} =0$"
   ]
  },
  {
   "cell_type": "code",
   "execution_count": null,
   "metadata": {},
   "outputs": [],
   "source": [
    "case2_Heckman = dict.fromkeys(map(str, N_samples))\n",
    "case2_OLS = dict.fromkeys(map(str, N_samples))\n",
    "\n",
    "for i in range(len(N_samples)):\n",
    "    for b in range(B):\n",
    "        case2 = MissingDataExperiments(N = N_samples[i],\n",
    "                                       alpha=0.5, beta=-0.5, delta=0.5, gamma=-2.5, sigma_y=1.0,\n",
    "                                       rho_xz = 0.8, rho_yd = 0.0, m_error = False, nonlinear_z=True,\n",
    "                                       seed = r_ints[b])\n",
    "        case2.generate_data()\n",
    "        case2.stan_fit(type='Heckman')  \n",
    "        if case2_Heckman[str(N_samples[i])] is None:\n",
    "            case2_Heckman[str(N_samples[i])] = [case2]\n",
    "        else:\n",
    "            case2_Heckman[str(N_samples[i])].append(case2)\n",
    "        \n",
    "    \n",
    "for i in range(len(N_samples)):\n",
    "    for b in range(B):\n",
    "        case2 = MissingDataExperiments(N = N_samples[i],\n",
    "                                       alpha=0.5, beta=-0.5, delta=0.5, gamma=-2.5, sigma_y=1.0,\n",
    "                                       rho_xz = 0.8, rho_yd = 0.0, m_error = False, nonlinear_z=True,\n",
    "                                       seed = r_ints[b])\n",
    "        case2.generate_data()\n",
    "        case2.stan_fit(type='OLS')  \n",
    "        if case2_OLS[str(N_samples[i])] is None:\n",
    "            case2_OLS[str(N_samples[i])] = [case2]\n",
    "        else:\n",
    "            case2_OLS[str(N_samples[i])].append(case2)"
   ]
  },
  {
   "cell_type": "code",
   "execution_count": null,
   "metadata": {},
   "outputs": [],
   "source": [
    "plot_posterior(case2_Heckman, figsize=(30,10))"
   ]
  },
  {
   "cell_type": "code",
   "execution_count": null,
   "metadata": {},
   "outputs": [],
   "source": [
    "plot_posterior(case2_OLS, figsize=(30,10))"
   ]
  },
  {
   "cell_type": "code",
   "execution_count": null,
   "metadata": {},
   "outputs": [],
   "source": [
    "plot_mu_posterior(case2_Heckman, case2_OLS)"
   ]
  },
  {
   "cell_type": "markdown",
   "metadata": {},
   "source": [
    "### Case 3: $\\rho_{x,z} = 0$, $\\rho_{y,d} =0.8$"
   ]
  },
  {
   "cell_type": "code",
   "execution_count": null,
   "metadata": {},
   "outputs": [],
   "source": [
    "case3_Heckman = dict.fromkeys(map(str, N_samples))\n",
    "case3_OLS = dict.fromkeys(map(str, N_samples))\n",
    "\n",
    "for i in range(len(N_samples)):\n",
    "    for b in range(B):\n",
    "        case3 = MissingDataExperiments(N = N_samples[i],\n",
    "                                       alpha=0.5, beta=-0.5, delta=0.5, gamma=-2.5, sigma_y=1.0,\n",
    "                                       rho_xz = 0.0, rho_yd = 0.8, m_error = False, nonlinear_z=True,\n",
    "                                       seed = r_ints[b])\n",
    "        case3.generate_data()\n",
    "        case3.stan_fit(type='Heckman')  \n",
    "        if case3_Heckman[str(N_samples[i])] is None:\n",
    "            case3_Heckman[str(N_samples[i])] = [case3]\n",
    "        else:\n",
    "            case3_Heckman[str(N_samples[i])].append(case3)\n",
    "        \n",
    "    \n",
    "for i in range(len(N_samples)):\n",
    "    for b in range(B):\n",
    "        case3 = MissingDataExperiments(N = N_samples[i],\n",
    "                                       alpha=0.5, beta=-0.5, delta=0.5, gamma=-2.5, sigma_y=1.0,\n",
    "                                       rho_xz = 0.0, rho_yd = 0.8, m_error = False, nonlinear_z=True,\n",
    "                                       seed = r_ints[b])\n",
    "        case3.generate_data()\n",
    "        case3.stan_fit(type='OLS')  \n",
    "        if case3_OLS[str(N_samples[i])] is None:\n",
    "            case3_OLS[str(N_samples[i])] = [case3]\n",
    "        else:\n",
    "            case3_OLS[str(N_samples[i])].append(case3)"
   ]
  },
  {
   "cell_type": "code",
   "execution_count": null,
   "metadata": {},
   "outputs": [],
   "source": [
    "plot_posterior(case3_Heckman, figsize=(30,10))"
   ]
  },
  {
   "cell_type": "code",
   "execution_count": null,
   "metadata": {},
   "outputs": [],
   "source": [
    "plot_posterior(case3_OLS, figsize=(30,10))"
   ]
  },
  {
   "cell_type": "code",
   "execution_count": null,
   "metadata": {},
   "outputs": [],
   "source": [
    "plot_mu_posterior(case3_Heckman, case3_OLS)"
   ]
  },
  {
   "cell_type": "markdown",
   "metadata": {},
   "source": [
    "### Case 4: $\\rho_{x,z} = 0.8$, $\\rho_{y,d} =0.8$"
   ]
  },
  {
   "cell_type": "code",
   "execution_count": null,
   "metadata": {},
   "outputs": [],
   "source": [
    "case4_Heckman = dict.fromkeys(map(str, N_samples))\n",
    "case4_OLS = dict.fromkeys(map(str, N_samples))\n",
    "\n",
    "for i in range(len(N_samples)):\n",
    "    for b in range(B):\n",
    "        case4 = MissingDataExperiments(N = N_samples[i],\n",
    "                                       alpha=0.5, beta=-0.5, delta=0.5, gamma=-2.5, sigma_y=1.0,\n",
    "                                       rho_xz = 0.8, rho_yd = 0.8, m_error = False, nonlinear_z=True,\n",
    "                                       seed = r_ints[b])\n",
    "        case4.generate_data()\n",
    "        case4.stan_fit(type='Heckman')  \n",
    "        if case4_Heckman[str(N_samples[i])] is None:\n",
    "            case4_Heckman[str(N_samples[i])] = [case4]\n",
    "        else:\n",
    "            case4_Heckman[str(N_samples[i])].append(case4)\n",
    "        \n",
    "    \n",
    "for i in range(len(N_samples)):\n",
    "    for b in range(B):\n",
    "        case4 = MissingDataExperiments(N = N_samples[i],\n",
    "                                       alpha=0.5, beta=-0.5, delta=0.5, gamma=-2.5, sigma_y=1.0,\n",
    "                                       rho_xz = 0.8, rho_yd = 0.8, m_error = False, nonlinear_z=True,\n",
    "                                       seed = r_ints[b])\n",
    "        case4.generate_data()\n",
    "        case4.stan_fit(type='OLS')  \n",
    "        if case4_OLS[str(N_samples[i])] is None:\n",
    "            case4_OLS[str(N_samples[i])] = [case4]\n",
    "        else:\n",
    "            case4_OLS[str(N_samples[i])].append(case4)\n"
   ]
  },
  {
   "cell_type": "code",
   "execution_count": null,
   "metadata": {},
   "outputs": [],
   "source": [
    "plot_posterior(case4_Heckman, figsize=(30,10))"
   ]
  },
  {
   "cell_type": "code",
   "execution_count": null,
   "metadata": {},
   "outputs": [],
   "source": [
    "plot_posterior(case4_OLS, figsize=(30,10))"
   ]
  },
  {
   "cell_type": "code",
   "execution_count": null,
   "metadata": {},
   "outputs": [],
   "source": [
    "plot_mu_posterior(case4_Heckman, case4_OLS)"
   ]
  }
 ],
 "metadata": {
  "kernelspec": {
   "display_name": "Python 3",
   "language": "python",
   "name": "python3"
  },
  "language_info": {
   "codemirror_mode": {
    "name": "ipython",
    "version": 3
   },
   "file_extension": ".py",
   "mimetype": "text/x-python",
   "name": "python",
   "nbconvert_exporter": "python",
   "pygments_lexer": "ipython3",
   "version": "3.8.3"
  }
 },
 "nbformat": 4,
 "nbformat_minor": 4
}
